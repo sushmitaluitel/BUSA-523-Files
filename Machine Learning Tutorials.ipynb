{
 "cells": [
  {
   "cell_type": "markdown",
   "id": "f083efbb",
   "metadata": {},
   "source": [
    "# Week 6 - Machine Learning"
   ]
  },
  {
   "cell_type": "markdown",
   "id": "7ce7533d",
   "metadata": {},
   "source": [
    "Scikit-learn (sklearn) library imports:\n",
    "\n",
    "- train_test_split --> splitting data into training and testing datasets\n",
    "- KFold --> cross-validation (k - number of folds)\n",
    "- GridSearchCV --> hyperparmaters tuning\n",
    "- roc_auc_score --> Area under the curve for ROC\n",
    "- plot_roc_curve --> Plotting ROC curve\n",
    "- SVC --> Support Vector Machine\n",
    "- MLPClassifier --> Multiple layer perceptron (Neural Network)\n",
    "- classification_report --> performance metrics for classification\n",
    "- confusion_matrix --> predicted vs actual values\n",
    "- ConfusionMatrixDisplay --> visualization for confusion matrix"
   ]
  },
  {
   "cell_type": "code",
   "execution_count": 1,
   "id": "fa361bc4",
   "metadata": {},
   "outputs": [],
   "source": [
    "# Import libraries\n",
    "\n",
    "import pandas as pd\n",
    "import matplotlib.pyplot as plt\n",
    "\n",
    "# Scikit learn - machine learning algorithms and methods\n",
    "\n",
    "from sklearn.model_selection import train_test_split, KFold, GridSearchCV\n",
    "from sklearn.preprocessing import StandardScaler\n",
    "from sklearn.preprocessing import MinMaxScaler\n",
    "from sklearn.metrics import roc_auc_score, plot_roc_curve\n",
    "from sklearn.linear_model import LogisticRegression\n",
    "from sklearn.ensemble import RandomForestClassifier\n",
    "from sklearn.svm import SVC\n",
    "from sklearn.neural_network import MLPClassifier\n",
    "from sklearn.metrics import classification_report,confusion_matrix, ConfusionMatrixDisplay"
   ]
  },
  {
   "cell_type": "code",
   "execution_count": 2,
   "id": "daf97c09",
   "metadata": {},
   "outputs": [
    {
     "data": {
      "text/html": [
       "<div>\n",
       "<style scoped>\n",
       "    .dataframe tbody tr th:only-of-type {\n",
       "        vertical-align: middle;\n",
       "    }\n",
       "\n",
       "    .dataframe tbody tr th {\n",
       "        vertical-align: top;\n",
       "    }\n",
       "\n",
       "    .dataframe thead th {\n",
       "        text-align: right;\n",
       "    }\n",
       "</style>\n",
       "<table border=\"1\" class=\"dataframe\">\n",
       "  <thead>\n",
       "    <tr style=\"text-align: right;\">\n",
       "      <th></th>\n",
       "      <th>Variance</th>\n",
       "      <th>Skewness</th>\n",
       "      <th>Curtosis</th>\n",
       "      <th>Entropy</th>\n",
       "      <th>Class</th>\n",
       "    </tr>\n",
       "  </thead>\n",
       "  <tbody>\n",
       "    <tr>\n",
       "      <th>0</th>\n",
       "      <td>4.54590</td>\n",
       "      <td>8.16740</td>\n",
       "      <td>-2.4586</td>\n",
       "      <td>-1.46210</td>\n",
       "      <td>0</td>\n",
       "    </tr>\n",
       "    <tr>\n",
       "      <th>1</th>\n",
       "      <td>3.86600</td>\n",
       "      <td>-2.63830</td>\n",
       "      <td>1.9242</td>\n",
       "      <td>0.10645</td>\n",
       "      <td>0</td>\n",
       "    </tr>\n",
       "    <tr>\n",
       "      <th>2</th>\n",
       "      <td>3.45660</td>\n",
       "      <td>9.52280</td>\n",
       "      <td>-4.0112</td>\n",
       "      <td>-3.59440</td>\n",
       "      <td>0</td>\n",
       "    </tr>\n",
       "    <tr>\n",
       "      <th>3</th>\n",
       "      <td>0.32924</td>\n",
       "      <td>-4.45520</td>\n",
       "      <td>4.5718</td>\n",
       "      <td>-0.98880</td>\n",
       "      <td>0</td>\n",
       "    </tr>\n",
       "    <tr>\n",
       "      <th>4</th>\n",
       "      <td>4.36840</td>\n",
       "      <td>9.67180</td>\n",
       "      <td>-3.9606</td>\n",
       "      <td>-3.16250</td>\n",
       "      <td>0</td>\n",
       "    </tr>\n",
       "    <tr>\n",
       "      <th>...</th>\n",
       "      <td>...</td>\n",
       "      <td>...</td>\n",
       "      <td>...</td>\n",
       "      <td>...</td>\n",
       "      <td>...</td>\n",
       "    </tr>\n",
       "    <tr>\n",
       "      <th>1366</th>\n",
       "      <td>0.40614</td>\n",
       "      <td>1.34920</td>\n",
       "      <td>-1.4501</td>\n",
       "      <td>-0.55949</td>\n",
       "      <td>1</td>\n",
       "    </tr>\n",
       "    <tr>\n",
       "      <th>1367</th>\n",
       "      <td>-1.38870</td>\n",
       "      <td>-4.87730</td>\n",
       "      <td>6.4774</td>\n",
       "      <td>0.34179</td>\n",
       "      <td>1</td>\n",
       "    </tr>\n",
       "    <tr>\n",
       "      <th>1368</th>\n",
       "      <td>-3.75030</td>\n",
       "      <td>-13.45860</td>\n",
       "      <td>17.5932</td>\n",
       "      <td>-2.77710</td>\n",
       "      <td>1</td>\n",
       "    </tr>\n",
       "    <tr>\n",
       "      <th>1369</th>\n",
       "      <td>-3.56370</td>\n",
       "      <td>-8.38270</td>\n",
       "      <td>12.3930</td>\n",
       "      <td>-1.28230</td>\n",
       "      <td>1</td>\n",
       "    </tr>\n",
       "    <tr>\n",
       "      <th>1370</th>\n",
       "      <td>-2.54190</td>\n",
       "      <td>-0.65804</td>\n",
       "      <td>2.6842</td>\n",
       "      <td>1.19520</td>\n",
       "      <td>1</td>\n",
       "    </tr>\n",
       "  </tbody>\n",
       "</table>\n",
       "<p>1371 rows × 5 columns</p>\n",
       "</div>"
      ],
      "text/plain": [
       "      Variance  Skewness  Curtosis  Entropy  Class\n",
       "0      4.54590   8.16740   -2.4586 -1.46210      0\n",
       "1      3.86600  -2.63830    1.9242  0.10645      0\n",
       "2      3.45660   9.52280   -4.0112 -3.59440      0\n",
       "3      0.32924  -4.45520    4.5718 -0.98880      0\n",
       "4      4.36840   9.67180   -3.9606 -3.16250      0\n",
       "...        ...       ...       ...      ...    ...\n",
       "1366   0.40614   1.34920   -1.4501 -0.55949      1\n",
       "1367  -1.38870  -4.87730    6.4774  0.34179      1\n",
       "1368  -3.75030 -13.45860   17.5932 -2.77710      1\n",
       "1369  -3.56370  -8.38270   12.3930 -1.28230      1\n",
       "1370  -2.54190  -0.65804    2.6842  1.19520      1\n",
       "\n",
       "[1371 rows x 5 columns]"
      ]
     },
     "execution_count": 2,
     "metadata": {},
     "output_type": "execute_result"
    }
   ],
   "source": [
    "# Import data\n",
    "\n",
    "data = pd.read_csv(\"bank.csv\")\n",
    "\n",
    "# Create features/inputs\n",
    "X = data.drop(columns = [\"Class\"])\n",
    "\n",
    "# Create the output/class\n",
    "y = data[\"Class\"]\n",
    "\n",
    "# Splitting into training and testing datasets\n",
    "X_train, X_test, y_train, y_test = train_test_split(X, y, random_state = 10, train_size = 0.6)\n",
    "\n",
    "data"
   ]
  },
  {
   "cell_type": "markdown",
   "id": "000f1f32",
   "metadata": {},
   "source": [
    "### Logistic Regression\n",
    "\n",
    "#### Hyperparameters to tune:\n",
    "- solver: [‘newton-cg’, ‘lbfgs’, ‘liblinear’, ‘sag’, ‘saga’]\n",
    "- penalty: [‘none’, ‘l1’, ‘l2’, ‘elasticnet’]\n",
    "- C: [100, 10, 1.0, 0.1, 0.01]\n",
    "\n",
    "https://scikit-learn.org/stable/modules/generated/sklearn.linear_model.LogisticRegression.html"
   ]
  },
  {
   "cell_type": "code",
   "execution_count": 4,
   "id": "4c6766d6",
   "metadata": {},
   "outputs": [
    {
     "name": "stdout",
     "output_type": "stream",
     "text": [
      "              precision    recall  f1-score   support\n",
      "\n",
      "           0       1.00      0.97      0.98       300\n",
      "           1       0.96      1.00      0.98       249\n",
      "\n",
      "    accuracy                           0.98       549\n",
      "   macro avg       0.98      0.98      0.98       549\n",
      "weighted avg       0.98      0.98      0.98       549\n",
      "\n"
     ]
    },
    {
     "data": {
      "image/png": "[encoded data removed]",
      "text/plain": [
       "<Figure size 432x288 with 2 Axes>"
      ]
     },
     "metadata": {
      "needs_background": "light"
     },
     "output_type": "display_data"
    },
    {
     "data": {
      "image/png": "[encoded data removed]",
      "text/plain": [
       "<Figure size 432x288 with 1 Axes>"
      ]
     },
     "metadata": {
      "needs_background": "light"
     },
     "output_type": "display_data"
    }
   ],
   "source": [
    "# Logistic Regression\n",
    "\n",
    "# Defining and training the model\n",
    "clf = LogisticRegression(solver = \"lbfgs\", penalty = \"l2\", C = 0.01, random_state = 10).fit(X_train, y_train)\n",
    "\n",
    "# Evaluating the model \n",
    "clf.score(X_test, y_test)\n",
    "\n",
    "# Making predictions\n",
    "y_pred = clf.predict(X_test)\n",
    "\n",
    "# Creating the labels\n",
    "labels = [\"authentic\", \"forged\"]\n",
    "\n",
    "# Developing the confusion matrix\n",
    "cm = confusion_matrix(y_test, y_pred, labels = clf.classes_)\n",
    "\n",
    "# Display Confusion Matrix\n",
    "disp = ConfusionMatrixDisplay(confusion_matrix = cm, display_labels = labels)\n",
    "disp.plot()\n",
    "\n",
    "# Print performance metrics \n",
    "print(classification_report(y_test, y_pred, labels = clf.classes_))\n",
    "\n",
    "# Plotting ROC curve\n",
    "plot_roc_curve(clf, X_test, y_test) \n",
    "plt.show()"
   ]
  },
  {
   "cell_type": "markdown",
   "id": "75dcbecb",
   "metadata": {},
   "source": [
    "### Random forest\n",
    "\n",
    "#### Hyperparameters to tune:\n",
    "- max_features: [‘sqrt’, ‘log2’]\n",
    "- n_estimators: [10, 100, 1000]\n",
    "- max_depth\n",
    "\n",
    "https://scikit-learn.org/stable/modules/generated/sklearn.ensemble.RandomForestClassifier.html\n",
    "https://www.analyticsvidhya.com/blog/2020/03/beginners-guide-random-forest-hyperparameter-tuning/"
   ]
  },
  {
   "cell_type": "code",
   "execution_count": 7,
   "id": "c17db6e1",
   "metadata": {},
   "outputs": [
    {
     "name": "stdout",
     "output_type": "stream",
     "text": [
      "              precision    recall  f1-score   support\n",
      "\n",
      "           0       0.99      0.98      0.98       300\n",
      "           1       0.98      0.98      0.98       249\n",
      "\n",
      "    accuracy                           0.98       549\n",
      "   macro avg       0.98      0.98      0.98       549\n",
      "weighted avg       0.98      0.98      0.98       549\n",
      "\n"
     ]
    },
    {
     "data": {
      "image/png": "[encoded data removed]",
      "text/plain": [
       "<Figure size 432x288 with 2 Axes>"
      ]
     },
     "metadata": {
      "needs_background": "light"
     },
     "output_type": "display_data"
    }
   ],
   "source": [
    "# Developing and fitting the random forest algorithm\n",
    "rf = RandomForestClassifier(n_estimators = 10, max_depth = 5, max_features = 'sqrt', random_state = 0).fit(X_train, y_train)\n",
    "\n",
    "# Making predictions\n",
    "rf_pred = rf.predict(X_test)\n",
    "\n",
    "cm_rf = confusion_matrix(y_test, rf_pred, labels = clf.classes_)\n",
    "disp = ConfusionMatrixDisplay(confusion_matrix = cm_rf, display_labels = labels)\n",
    "disp.plot()\n",
    "print(classification_report(y_test, rf_pred, labels = clf.classes_))"
   ]
  },
  {
   "cell_type": "markdown",
   "id": "00c2a006",
   "metadata": {},
   "source": [
    "### Support Vector Machine\n",
    "\n",
    "#### Hyperparameters to tune\n",
    "- kernels: [‘linear’, ‘poly’, ‘rbf’, ‘sigmoid’]\n",
    "- C: [100, 10, 1.0, 0.1, 0.001]\n",
    "- gamma: [100, 10, 1.0, 0.1]\n",
    "\n",
    "https://scikit-learn.org/stable/modules/generated/sklearn.svm.SVC.html"
   ]
  },
  {
   "cell_type": "code",
   "execution_count": 17,
   "id": "43889fa4",
   "metadata": {},
   "outputs": [
    {
     "name": "stdout",
     "output_type": "stream",
     "text": [
      "              precision    recall  f1-score   support\n",
      "\n",
      "           0       1.00      1.00      1.00       300\n",
      "           1       1.00      1.00      1.00       249\n",
      "\n",
      "    accuracy                           1.00       549\n",
      "   macro avg       1.00      1.00      1.00       549\n",
      "weighted avg       1.00      1.00      1.00       549\n",
      "\n"
     ]
    },
    {
     "data": {
      "image/png": "[encoded data removed]",
      "text/plain": [
       "<Figure size 432x288 with 2 Axes>"
      ]
     },
     "metadata": {
      "needs_background": "light"
     },
     "output_type": "display_data"
    }
   ],
   "source": [
    "# Developing and fitting the Support Vector Machine\n",
    "svm = SVC(random_state = 0, kernel = \"rbf\", gamma = 1).fit(X_train, y_train)\n",
    "\n",
    "svm_pred = svm.predict(X_test)\n",
    "\n",
    "cm_svm = confusion_matrix(y_test, svm_pred, labels = clf.classes_)\n",
    "disp = ConfusionMatrixDisplay(confusion_matrix = cm_svm, display_labels = labels)\n",
    "disp.plot()\n",
    "print(classification_report(y_test, svm_pred, labels = clf.classes_))"
   ]
  },
  {
   "cell_type": "markdown",
   "id": "f640dccf",
   "metadata": {},
   "source": [
    "### Neural Network\n",
    "\n",
    "#### Hyperparameters to tune\n",
    "- hidden_layer_sizes\n",
    "- solver: [‘lbfgs’, ‘sgd’, ‘adam’]\n",
    "- learning_rate: [‘constant’, ‘invscaling’, ‘adaptive’]\n",
    "- learning_rate_init\n",
    "- activation - [‘identity’, ‘logistic’, ‘tanh’, ‘relu’]\n",
    "\n",
    "\n",
    "https://scikit-learn.org/stable/modules/generated/sklearn.neural_network.MLPClassifier.html"
   ]
  },
  {
   "cell_type": "code",
   "execution_count": 20,
   "id": "f7f519b5",
   "metadata": {},
   "outputs": [
    {
     "name": "stdout",
     "output_type": "stream",
     "text": [
      "              precision    recall  f1-score   support\n",
      "\n",
      "           0       1.00      1.00      1.00       300\n",
      "           1       1.00      1.00      1.00       249\n",
      "\n",
      "    accuracy                           1.00       549\n",
      "   macro avg       1.00      1.00      1.00       549\n",
      "weighted avg       1.00      1.00      1.00       549\n",
      "\n"
     ]
    },
    {
     "data": {
      "image/png": "[encoded data removed]",
      "text/plain": [
       "<Figure size 432x288 with 2 Axes>"
      ]
     },
     "metadata": {
      "needs_background": "light"
     },
     "output_type": "display_data"
    }
   ],
   "source": [
    "# Developing and fitting the Neural Network\n",
    "\n",
    "nn = MLPClassifier(solver = 'lbfgs', alpha = 0.0001, hidden_layer_sizes = (15,), random_state = 1, activation = \"relu\", learning_rate_init = 0.01).fit(X_train, y_train)\n",
    "\n",
    "nn_pred = nn.predict(X_test)\n",
    "\n",
    "cm_nn = confusion_matrix(y_test, nn_pred, labels = clf.classes_)\n",
    "disp = ConfusionMatrixDisplay(confusion_matrix = cm_nn, display_labels = labels)\n",
    "disp.plot()\n",
    "print(classification_report(y_test, nn_pred, labels = clf.classes_))"
   ]
  },
  {
   "cell_type": "code",
   "execution_count": 23,
   "id": "1a236571",
   "metadata": {},
   "outputs": [
    {
     "name": "stdout",
     "output_type": "stream",
     "text": [
      "Accuracy for iteration 1 is 1.0\n",
      "Accuracy for iteration 2 is 0.9879518072289156\n",
      "Accuracy for iteration 3 is 1.0\n",
      "Accuracy for iteration 4 is 0.975609756097561\n",
      "Accuracy for iteration 5 is 0.9878048780487805\n",
      "Accuracy for iteration 6 is 0.9634146341463414\n",
      "Accuracy for iteration 7 is 0.9878048780487805\n",
      "Accuracy for iteration 8 is 0.9634146341463414\n",
      "Accuracy for iteration 9 is 0.9634146341463414\n",
      "Accuracy for iteration 10 is 0.975609756097561\n"
     ]
    }
   ],
   "source": [
    "# Implement k-fold cross validation\n",
    "\n",
    "# Specify the number of splits - 10\n",
    "kf = KFold(n_splits=10)\n",
    "\n",
    "iteration = 1\n",
    "for train_indices, test_indices in kf.split(X_train):\n",
    "    clf.fit(X_train.iloc[train_indices], y_train.iloc[train_indices])\n",
    "    print(\"Accuracy for iteration \"+ str(iteration) + \" is \" + str(clf.score(X_train.iloc[test_indices], y_train.iloc[test_indices])))\n",
    "    iteration += 1"
   ]
  },
  {
   "cell_type": "code",
   "execution_count": 24,
   "id": "7236b1f1",
   "metadata": {},
   "outputs": [
    {
     "data": {
      "text/plain": [
       "{'C': 1, 'kernel': 'rbf'}"
      ]
     },
     "execution_count": 24,
     "metadata": {},
     "output_type": "execute_result"
    }
   ],
   "source": [
    "# Implement grid search for parameter tuning\n",
    "\n",
    "\n",
    "parameters = {'kernel':('linear', 'rbf', 'poly'), 'C':[1, 10]}\n",
    "\n",
    "svm_grid = GridSearchCV(svm, parameters)\n",
    "svm_grid.fit(X_train, y_train)\n",
    "svm_grid.best_params_"
   ]
  },
  {
   "cell_type": "code",
   "execution_count": null,
   "id": "823edb59",
   "metadata": {},
   "outputs": [],
   "source": []
  }
 ],
 "metadata": {
  "kernelspec": {
   "display_name": "Python 3 (ipykernel)",
   "language": "python",
   "name": "python3"
  },
  "language_info": {
   "codemirror_mode": {
    "name": "ipython",
    "version": 3
   },
   "file_extension": ".py",
   "mimetype": "text/x-python",
   "name": "python",
   "nbconvert_exporter": "python",
   "pygments_lexer": "ipython3",
   "version": "3.9.7"
  }
 },
 "nbformat": 4,
 "nbformat_minor": 5
}
