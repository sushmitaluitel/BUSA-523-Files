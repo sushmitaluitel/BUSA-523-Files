{
 "cells": [
  {
   "cell_type": "markdown",
   "id": "404a4991",
   "metadata": {},
   "source": [
    "# Name: Susmita Luitel\n",
    "# Student ID: 50300628 "
   ]
  },
  {
   "cell_type": "markdown",
   "id": "0f083f74",
   "metadata": {},
   "source": [
    "\n",
    "1. Write a program for flipping a coin 10,000 times and store the results in a list. After which, identify the number of streaks. (streak - a series of 5 or more heads or tails)"
   ]
  },
  {
   "cell_type": "code",
   "execution_count": 1,
   "id": "ec5bd292",
   "metadata": {},
   "outputs": [
    {
     "name": "stdout",
     "output_type": "stream",
     "text": [
      "The total number of streaks: 318\n"
     ]
    }
   ],
   "source": [
    "import random\n",
    "\n",
    "flippedCoin = []\n",
    "headCount = 0\n",
    "tailCount = 0\n",
    "streaks = 0\n",
    "index = 0\n",
    "\n",
    "for i in range(10000):\n",
    "    coin = random.randint(0,1)\n",
    "    if coin == 0:\n",
    "        flippedCoin.append(\"Head\")\n",
    "    else:\n",
    "        flippedCoin.append(\"Tail\")\n",
    "\n",
    "for eachToss in flippedCoin:\n",
    "    index += 1\n",
    "    if eachToss == \"Head\":\n",
    "        headCount += 1\n",
    "        tailCount = 0\n",
    "        if headCount >= 5 and flippedCoin[index] == \"Tail\":\n",
    "            streaks += 1\n",
    "    else:\n",
    "        tailCount += 1\n",
    "        headCount = 0\n",
    "        if tailCount >= 5 and flippedCoin[index] == \"Head\":\n",
    "            streaks += 1        \n",
    "\n",
    "print(\"The total number of streaks: \" + str(streaks))"
   ]
  },
  {
   "cell_type": "markdown",
   "id": "b86ede0d",
   "metadata": {},
   "source": [
    "2. Write a program to take user inputs (number of swords, diamonds, gold coins, ropes and potions) for a video game and store them in a dictionary. After which print the following output. \n",
    "\n",
    " Inventory:\n",
    " 5 swords     \n",
    " 10 diamonds\n",
    " 6 gold coins\n",
    " 3 rope\n",
    " 2 potions\n"
   ]
  },
  {
   "cell_type": "code",
   "execution_count": 2,
   "id": "94271b08",
   "metadata": {},
   "outputs": [
    {
     "name": "stdout",
     "output_type": "stream",
     "text": [
      "Enter a number of swords: \n",
      "5\n",
      "Enter a number of diamonds: \n",
      "10\n",
      "Enter a number of gold coins: \n",
      "6\n",
      "Enter a number of ropes: \n",
      "3\n",
      "Enter a number of potions: \n",
      "2\n",
      "\n",
      "Inventory: \n",
      "5 swords\n",
      "10 diamonds\n",
      "6 gold coins\n",
      "3 ropes\n",
      "2 potions\n"
     ]
    }
   ],
   "source": [
    "myDict = {}\n",
    "\n",
    "print(\"Enter a number of swords: \")\n",
    "swords = int(input())\n",
    "print(\"Enter a number of diamonds: \")\n",
    "diamonds = int(input())\n",
    "print(\"Enter a number of gold coins: \")\n",
    "gold_coins = int(input())\n",
    "print(\"Enter a number of ropes: \")\n",
    "ropes = int(input())\n",
    "print(\"Enter a number of potions: \")\n",
    "potions = int(input())\n",
    "\n",
    "myDict['swords'] = swords\n",
    "myDict['diamonds'] = diamonds\n",
    "myDict['gold coins'] = gold_coins\n",
    "myDict['ropes'] = ropes\n",
    "myDict['potions'] = potions\n",
    "\n",
    "print(\"\\nInventory: \")\n",
    "for key, val in myDict.items():\n",
    "    print(val, key)"
   ]
  },
  {
   "cell_type": "markdown",
   "id": "4eeeae99",
   "metadata": {},
   "source": [
    "3. Repeat question 1 using arrays. "
   ]
  },
  {
   "cell_type": "code",
   "execution_count": 5,
   "id": "186cad29",
   "metadata": {},
   "outputs": [
    {
     "name": "stdout",
     "output_type": "stream",
     "text": [
      "The total number of streaks: 339\n"
     ]
    }
   ],
   "source": [
    "import numpy as np\n",
    "import random\n",
    "\n",
    "flippedCoin = np.array([])\n",
    "\n",
    "headCount = 0\n",
    "tailCount = 0\n",
    "streaks = 0\n",
    "index = 0\n",
    "\n",
    "for i in range(10000):\n",
    "    coin = random.randint(0,1)\n",
    "    if coin == 0:\n",
    "        flippedCoin = np.append(flippedCoin, \"Head\")\n",
    "    else:\n",
    "        flippedCoin = np.append(flippedCoin, \"Tail\")\n",
    "\n",
    "for eachToss in flippedCoin:\n",
    "    index += 1\n",
    "    if eachToss == \"Head\":\n",
    "        headCount += 1\n",
    "        tailCount = 0\n",
    "        if headCount >= 5 and flippedCoin[index] == \"Tail\":\n",
    "            streaks += 1\n",
    "    else:\n",
    "        tailCount += 1\n",
    "        headCount = 0\n",
    "        if tailCount >= 5 and flippedCoin[index] == \"Head\":\n",
    "            streaks += 1        \n",
    "\n",
    "print(\"The total number of streaks: \" + str(streaks))"
   ]
  },
  {
   "cell_type": "markdown",
   "id": "5a5bdbbe",
   "metadata": {},
   "source": [
    "4. Create a game with the following instructions: \n",
    "a. There are 3 players and 10 iterations.\n",
    "b. In each iteration, every player rolls a die.\n",
    "c. The winner of the game is the one who has the highest score when rolls from all the iterations are added."
   ]
  },
  {
   "cell_type": "code",
   "execution_count": 6,
   "id": "bb942f9e",
   "metadata": {},
   "outputs": [
    {
     "name": "stdout",
     "output_type": "stream",
     "text": [
      "Player 1 score: 36.0\n",
      "Player 2 score: 33.0\n",
      "Player 3 score: 32.0\n",
      "\n",
      "Player 1 is a winner with a score 36.0\n"
     ]
    }
   ],
   "source": [
    "import numpy as np\n",
    "\n",
    "#creating the array with all zero.\n",
    "playersScore = np.zeros((3, 10))\n",
    "\n",
    "\n",
    "for i in range(len(playersScore[0,:])):\n",
    "    for j in range(len(playersScore)):\n",
    "        diceRolledValue = np.random.randint(1,6)\n",
    "        playersScore[j, i] = diceRolledValue\n",
    "\n",
    "playerOne = np.sum(playersScore[0,:])\n",
    "playerTwo = np.sum(playersScore[1,:])\n",
    "playerThree = np.sum(playersScore[2,:])\n",
    "\n",
    "print(\"Player 1 score: \" + str(playerOne))\n",
    "print(\"Player 2 score: \" + str(playerTwo))\n",
    "print(\"Player 3 score: \" + str(playerThree))\n",
    "\n",
    "if playerOne > playerTwo and playerOne > playerThree:\n",
    "    print(\"\\nPlayer 1 is a winner with a score \" + str(playerOne))\n",
    "elif playerTwo > playerOne and playerTwo > playerThree:\n",
    "    print(\"\\nPlayer 2 is a winner with a score \" + str(playerTwo))\n",
    "else:\n",
    "    print(\"\\nPlayer 3 is a winner with a score \" + str(playerThree))\n",
    "    \n"
   ]
  }
 ],
 "metadata": {
  "kernelspec": {
   "display_name": "Python 3 (ipykernel)",
   "language": "python",
   "name": "python3"
  },
  "language_info": {
   "codemirror_mode": {
    "name": "ipython",
    "version": 3
   },
   "file_extension": ".py",
   "mimetype": "text/x-python",
   "name": "python",
   "nbconvert_exporter": "python",
   "pygments_lexer": "ipython3",
   "version": "3.9.7"
  }
 },
 "nbformat": 4,
 "nbformat_minor": 5
}
