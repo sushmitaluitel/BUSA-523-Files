{
 "cells": [
  {
   "cell_type": "markdown",
   "id": "cdfa3117",
   "metadata": {},
   "source": [
    "# Name: Susmita Luitel\n",
    "# Student ID: 50300628"
   ]
  },
  {
   "cell_type": "code",
   "execution_count": 1,
   "id": "c70cd274",
   "metadata": {},
   "outputs": [
    {
     "name": "stdout",
     "output_type": "stream",
     "text": [
      "     Age  Operation Year  Axillary Node  Survival Status\n",
      "0     30              64              1                1\n",
      "1     30              62              3                1\n",
      "2     30              65              0                1\n",
      "3     31              59              2                1\n",
      "4     31              65              4                1\n",
      "..   ...             ...            ...              ...\n",
      "301   75              62              1                1\n",
      "302   76              67              0                1\n",
      "303   77              65              3                1\n",
      "304   78              65              1                2\n",
      "305   83              58              2                2\n",
      "\n",
      "[306 rows x 4 columns]\n"
     ]
    }
   ],
   "source": [
    "#Importing the data.\n",
    "import pandas as pd\n",
    "\n",
    "#reading csv files\n",
    "columnNames = [\"Age\", \"Operation Year\", \"Axillary Node\", \"Survival Status\"]\n",
    "\n",
    "\"\"\"\n",
    "The dataset contains cases from a study that was conducted between\n",
    "   1958 and 1970 at the University of Chicago's Billings Hospital on\n",
    "   the survival of patients who had undergone surgery for breast\n",
    "   cancer.\n",
    "   \n",
    "Attribute Information:\n",
    "   1. Age of patient at time of operation (numerical)\n",
    "   2. Patient's year of operation (year - 1900, numerical)\n",
    "   3. Number of positive axillary nodes detected (numerical)\n",
    "   4. Survival status (class attribute)\n",
    "         1 = the patient survived 5 years or longer\n",
    "         2 = the patient died within 5 year\n",
    "\"\"\"\n",
    "\n",
    "data = pd.read_csv(\"haberman.data\", names=columnNames, sep=\",\" , header=None)\n",
    "print(data)\n"
   ]
  },
  {
   "cell_type": "markdown",
   "id": "7cad2364",
   "metadata": {},
   "source": [
    "#### 1. PerformExploratorydataanalysis.\n",
    "\n",
    "    ○ What can you conclude from methods of central tendency and deviation of\n",
    "the variables?\n",
    "\n",
    "    ○ Are there any correlated variables?\n",
    "    \n",
    "    ○ Interpret the skewness of the variables."
   ]
  },
  {
   "cell_type": "code",
   "execution_count": 2,
   "id": "7a620075",
   "metadata": {},
   "outputs": [
    {
     "name": "stdout",
     "output_type": "stream",
     "text": [
      "              Age  Operation Year  Axillary Node  Survival Status\n",
      "count  306.000000      306.000000     306.000000       306.000000\n",
      "mean    52.457516       62.852941       4.026144         1.264706\n",
      "std     10.803452        3.249405       7.189654         0.441899\n",
      "min     30.000000       58.000000       0.000000         1.000000\n",
      "25%     44.000000       60.000000       0.000000         1.000000\n",
      "50%     52.000000       63.000000       1.000000         1.000000\n",
      "75%     60.750000       65.750000       4.000000         2.000000\n",
      "max     83.000000       69.000000      52.000000         2.000000\n",
      "Conclusion:\n",
      "From this analysis, we can see how the variables are distributed and average, standard deviation value of each variable \n"
     ]
    }
   ],
   "source": [
    "#Methods of central tendency.\n",
    "print(data.describe())\n",
    "\n",
    "print(\"Conclusion:\")\n",
    "print(\"From this analysis, we can see how the variables are distributed and average, standard deviation value of each variable \")"
   ]
  },
  {
   "cell_type": "code",
   "execution_count": 3,
   "id": "a6309e39",
   "metadata": {},
   "outputs": [
    {
     "name": "stdout",
     "output_type": "stream",
     "text": [
      "                      Age  Operation Year  Axillary Node  Survival Status\n",
      "Age              1.000000        0.089529      -0.063176         0.067950\n",
      "Operation Year   0.089529        1.000000      -0.003764        -0.004768\n",
      "Axillary Node   -0.063176       -0.003764       1.000000         0.286768\n",
      "Survival Status  0.067950       -0.004768       0.286768         1.000000\n",
      "To remove variables that are correlated.\n",
      "As per the correlation data and visualization, there are not any correlated variables.\n"
     ]
    },
    {
     "data": {
      "image/png": "[encoded data removed]",
      "text/plain": [
       "<Figure size 432x288 with 2 Axes>"
      ]
     },
     "metadata": {
      "needs_background": "light"
     },
     "output_type": "display_data"
    }
   ],
   "source": [
    "#Correlation\n",
    "corr = data.corr()\n",
    "print(corr)\n",
    "\n",
    "print(\"To remove variables that are correlated.\")\n",
    "\n",
    "#visualization \n",
    "\n",
    "import seaborn as sns\n",
    "\n",
    "sns.heatmap(corr)\n",
    "\n",
    "print(\"As per the correlation data and visualization, there are not any correlated variables.\")"
   ]
  },
  {
   "cell_type": "code",
   "execution_count": 4,
   "id": "a62d2ddb",
   "metadata": {},
   "outputs": [
    {
     "name": "stdout",
     "output_type": "stream",
     "text": [
      "Based on the visualization, we can see Age is skewed (pretty much centered)\n"
     ]
    },
    {
     "data": {
      "text/plain": [
       "array([[<AxesSubplot:title={'center':'Age'}>,\n",
       "        <AxesSubplot:title={'center':'Operation Year'}>],\n",
       "       [<AxesSubplot:title={'center':'Axillary Node'}>,\n",
       "        <AxesSubplot:title={'center':'Survival Status'}>]], dtype=object)"
      ]
     },
     "execution_count": 4,
     "metadata": {},
     "output_type": "execute_result"
    },
    {
     "data": {
      "image/png": "[encoded data removed]",
      "text/plain": [
       "<Figure size 432x288 with 4 Axes>"
      ]
     },
     "metadata": {
      "needs_background": "light"
     },
     "output_type": "display_data"
    },
    {
     "data": {
      "image/png": "[encoded data removed]",
      "text/plain": [
       "<Figure size 432x288 with 4 Axes>"
      ]
     },
     "metadata": {
      "needs_background": "light"
     },
     "output_type": "display_data"
    }
   ],
   "source": [
    "#Skewness of the Variables.\n",
    "\n",
    "#In order for the Skewness, we can visualize histogram.\n",
    "data.hist()\n",
    "\n",
    "print(\"Based on the visualization, we can see Age is skewed (pretty much centered)\")\n",
    "\n",
    "#Removing Skewness. \n",
    "data[\"Age\"] = data[\"Age\"] ** (0.5)\n",
    "\n",
    "data.hist()"
   ]
  },
  {
   "cell_type": "markdown",
   "id": "48594526",
   "metadata": {},
   "source": [
    "#### 2. Develop Supervised learning models.\n",
    "○ LogisticRegression\n",
    "\n",
    "○ RandomForest\n",
    "\n",
    "○ SupportVectorMachine\n",
    "\n",
    "○ NeuralNetwork\n",
    "\n",
    "#### Compare the 4 methods based on the performance metrics and identify the best model for this problem.\n",
    "- Use 10 - fold cross validation.\n",
    "\n",
    "- Use GridSearchCV for searching through hyper parameters."
   ]
  },
  {
   "cell_type": "code",
   "execution_count": 5,
   "id": "b3f05913",
   "metadata": {},
   "outputs": [
    {
     "name": "stdout",
     "output_type": "stream",
     "text": [
      "              precision    recall  f1-score   support\n",
      "\n",
      "           1       0.83      0.95      0.89        96\n",
      "           2       0.64      0.33      0.44        27\n",
      "\n",
      "    accuracy                           0.81       123\n",
      "   macro avg       0.74      0.64      0.66       123\n",
      "weighted avg       0.79      0.81      0.79       123\n",
      "\n",
      "\n",
      "10-fold for Logistic Regression\n",
      "Validation Accuracy for iteration 1 is 0.8421052631578947\n",
      "Validation Accuracy for iteration 2 is 0.5789473684210527\n",
      "Validation Accuracy for iteration 3 is 0.7894736842105263\n",
      "Validation Accuracy for iteration 4 is 0.8333333333333334\n",
      "Validation Accuracy for iteration 5 is 0.6111111111111112\n",
      "Validation Accuracy for iteration 6 is 0.8333333333333334\n",
      "Validation Accuracy for iteration 7 is 0.7777777777777778\n",
      "Validation Accuracy for iteration 8 is 0.7777777777777778\n",
      "Validation Accuracy for iteration 9 is 0.7222222222222222\n",
      "Validation Accuracy for iteration 10 is 0.6111111111111112\n",
      "\n",
      "The average accuracy from validation: 0.737719298245614\n",
      "\n",
      "\n",
      "Test Accuracy for iteration 1 is 0.6153846153846154\n",
      "Test Accuracy for iteration 2 is 0.7692307692307693\n",
      "Test Accuracy for iteration 3 is 0.8461538461538461\n",
      "Test Accuracy for iteration 4 is 0.75\n",
      "Test Accuracy for iteration 5 is 0.8333333333333334\n",
      "Test Accuracy for iteration 6 is 0.6666666666666666\n",
      "Test Accuracy for iteration 7 is 0.9166666666666666\n",
      "Test Accuracy for iteration 8 is 0.9166666666666666\n",
      "Test Accuracy for iteration 9 is 0.75\n",
      "Test Accuracy for iteration 10 is 0.9166666666666666\n",
      "\n",
      "The average accuracy from test value: 0.7980769230769231\n",
      "\n",
      "\n"
     ]
    },
    {
     "data": {
      "image/png": "[encoded data removed]",
      "text/plain": [
       "<Figure size 432x288 with 2 Axes>"
      ]
     },
     "metadata": {
      "needs_background": "light"
     },
     "output_type": "display_data"
    },
    {
     "data": {
      "image/png": "[encoded data removed]",
      "text/plain": [
       "<Figure size 432x288 with 1 Axes>"
      ]
     },
     "metadata": {
      "needs_background": "light"
     },
     "output_type": "display_data"
    }
   ],
   "source": [
    "# Scikit learn - machine learning algorithms and methods\n",
    "\n",
    "from sklearn.model_selection import train_test_split, KFold, GridSearchCV\n",
    "from sklearn.preprocessing import StandardScaler\n",
    "from sklearn.preprocessing import MinMaxScaler\n",
    "from sklearn.metrics import roc_auc_score, plot_roc_curve\n",
    "from sklearn.linear_model import LogisticRegression\n",
    "from sklearn.ensemble import RandomForestClassifier\n",
    "from sklearn.svm import SVC\n",
    "from sklearn.neural_network import MLPClassifier\n",
    "from sklearn.metrics import classification_report,confusion_matrix, ConfusionMatrixDisplay\n",
    "\n",
    "#Create features/inputs\n",
    "column_Names = [\"Age\", \"Operation Year\",\"Axillary Node\"]\n",
    "X = data[columnNames]\n",
    "\n",
    "#Create the output/class\n",
    "y = data[\"Survival Status\"]\n",
    "\n",
    "#Splitting into training and testing datasets.\n",
    "X_train, X_test, y_train, y_test = train_test_split(X, y, random_state = 10, train_size = 0.6)\n",
    "\n",
    "\n",
    "#Logistic Regression\n",
    "\n",
    "#Defining and trainin the model\n",
    "clf = LogisticRegression(solver = 'lbfgs', penalty = \"l2\", C = 0.01, random_state=10).fit(X_train,y_train)\n",
    "\n",
    "#Evaluting the model\n",
    "clf.score(X_test, y_test)\n",
    "\n",
    "#Making predictions\n",
    "y_pred = clf.predict(X_test)\n",
    "\n",
    "#Displaying Confusion Metrics\n",
    "cm = confusion_matrix(y_test, y_pred)\n",
    "disp = ConfusionMatrixDisplay(confusion_matrix = cm)\n",
    "disp.plot()\n",
    "\n",
    "#Printing performance Metrics\n",
    "print(classification_report(y_test, y_pred, labels = clf.classes_))\n",
    "\n",
    "#Plotting ROC Curve.\n",
    "plot_roc_curve(clf, X_test, y_test)\n",
    "\n",
    "\n",
    "# Implement k-fold cross validation\n",
    "print(\"\\n10-fold for Logistic Regression\")\n",
    "# Specify the number of splits - 10\n",
    "kf = KFold(n_splits=10)\n",
    "\n",
    "iteration = 1\n",
    "average_validation_clf = 0.00\n",
    "for train_indices, test_indices in kf.split(X_train):\n",
    "    clf.fit(X_train.iloc[train_indices], y_train.iloc[train_indices])\n",
    "    average_validation_clf += clf.score(X_train.iloc[test_indices], y_train.iloc[test_indices])\n",
    "    print(\"Validation Accuracy for iteration \"+ str(iteration) + \" is \" + str(clf.score(X_train.iloc[test_indices], y_train.iloc[test_indices])))\n",
    "    iteration += 1\n",
    "\n",
    "average_validation_clf = average_validation_clf / (iteration - 1)\n",
    "print(\"\\nThe average accuracy from validation: \" + str(average_validation_clf))\n",
    "print(\"\\n\")\n",
    "\n",
    "iteration = 1\n",
    "average_test_clf = 0.00\n",
    "for train_indices, test_indices in kf.split(X_test):\n",
    "    clf.fit(X_train.iloc[train_indices], y_train.iloc[train_indices])\n",
    "    average_test_clf += clf.score(X_test.iloc[test_indices], y_test.iloc[test_indices])\n",
    "    print(\"Test Accuracy for iteration \"+ str(iteration) + \" is \" + str(clf.score(X_test.iloc[test_indices], y_test.iloc[test_indices])))\n",
    "    iteration += 1\n",
    "\n",
    "average_test_clf = average_test_clf / (iteration - 1)\n",
    "print(\"\\nThe average accuracy from test value: \" + str(average_test_clf))\n",
    "print(\"\\n\")\n",
    "\n",
    "#print(\"\\nImplementing grid search for parameter tuning\")    \n",
    "# Implement grid search for parameter tuning\n",
    "# parameters = {'solver':( 'lbfgs', 'liblinear', 'sag', 'saga'),\n",
    "#               'penalty': ['l1', 'l2', 'elasticnet'],\n",
    "#               'C': [0.1, 0.5, 1, 5, 10, 50, 100]}\n",
    "\n",
    "# svm_grid = GridSearchCV(clf, param_grid=parameters)\n",
    "# svm_grid.fit(X_train, y_train)\n",
    "# svm_grid.best_params_"
   ]
  },
  {
   "cell_type": "code",
   "execution_count": 6,
   "id": "466c1109",
   "metadata": {},
   "outputs": [
    {
     "name": "stdout",
     "output_type": "stream",
     "text": [
      "              precision    recall  f1-score   support\n",
      "\n",
      "           1       1.00      1.00      1.00        96\n",
      "           2       1.00      1.00      1.00        27\n",
      "\n",
      "    accuracy                           1.00       123\n",
      "   macro avg       1.00      1.00      1.00       123\n",
      "weighted avg       1.00      1.00      1.00       123\n",
      "\n",
      "\n",
      "10-fold for Random Forest\n",
      "\n",
      "10-fold for Random Forest:\n",
      "Accuracy for iteration 1 is 1.0\n",
      "Accuracy for iteration 2 is 1.0\n",
      "Accuracy for iteration 3 is 1.0\n",
      "Accuracy for iteration 4 is 1.0\n",
      "Accuracy for iteration 5 is 1.0\n",
      "Accuracy for iteration 6 is 1.0\n",
      "Accuracy for iteration 7 is 1.0\n",
      "Accuracy for iteration 8 is 1.0\n",
      "Accuracy for iteration 9 is 1.0\n",
      "Accuracy for iteration 10 is 1.0\n",
      "\n",
      "The average accuracy from validation: 1.0\n",
      "\n",
      "\n",
      "Test Accuracy for iteration 1 is 1.0\n",
      "Test Accuracy for iteration 2 is 1.0\n",
      "Test Accuracy for iteration 3 is 1.0\n",
      "Test Accuracy for iteration 4 is 1.0\n",
      "Test Accuracy for iteration 5 is 1.0\n",
      "Test Accuracy for iteration 6 is 1.0\n",
      "Test Accuracy for iteration 7 is 1.0\n",
      "Test Accuracy for iteration 8 is 1.0\n",
      "Test Accuracy for iteration 9 is 1.0\n",
      "Test Accuracy for iteration 10 is 1.0\n",
      "\n",
      "The average accuracy from test value: 1.0\n",
      "\n",
      "\n",
      "\n",
      "Implementing grid search for parameter tuning\n"
     ]
    },
    {
     "data": {
      "text/plain": [
       "{'max_features': 'sqrt', 'n_estimators': 10}"
      ]
     },
     "execution_count": 6,
     "metadata": {},
     "output_type": "execute_result"
    },
    {
     "data": {
      "image/png": "[encoded data removed]",
      "text/plain": [
       "<Figure size 432x288 with 2 Axes>"
      ]
     },
     "metadata": {
      "needs_background": "light"
     },
     "output_type": "display_data"
    }
   ],
   "source": [
    "# Developing and fitting the random forest algorithm\n",
    "rf = RandomForestClassifier(n_estimators = 10, max_depth = 5, max_features = 'sqrt', random_state = 0).fit(X_train, y_train)\n",
    "\n",
    "# Making predictions\n",
    "rf_pred = rf.predict(X_test)\n",
    "\n",
    "cm_rf = confusion_matrix(y_test, rf_pred, labels = rf.classes_)\n",
    "disp = ConfusionMatrixDisplay(confusion_matrix = cm_rf)\n",
    "disp.plot()\n",
    "\n",
    "print(classification_report(y_test, rf_pred, labels = rf.classes_))\n",
    "\n",
    "\n",
    "print(\"\\n10-fold for Random Forest\")\n",
    "# Specify the number of splits - 10\n",
    "kf = KFold(n_splits=10)\n",
    "\n",
    "print(\"\\n10-fold for Random Forest:\")\n",
    "iteration = 1\n",
    "average_validation_rf = 0.00\n",
    "for train_indices, test_indices in kf.split(X_train):\n",
    "    rf.fit(X_train.iloc[train_indices], y_train.iloc[train_indices])\n",
    "    average_validation_rf += rf.score(X_train.iloc[test_indices], y_train.iloc[test_indices])\n",
    "    print(\"Accuracy for iteration \"+ str(iteration) + \" is \" + str(rf.score(X_train.iloc[test_indices], y_train.iloc[test_indices])))\n",
    "    iteration += 1\n",
    "\n",
    "average_validation_rf = average_validation_rf / (iteration - 1)\n",
    "print(\"\\nThe average accuracy from validation: \" + str(average_validation_rf))\n",
    "print(\"\\n\")\n",
    "    \n",
    "iteration = 1\n",
    "average_test_rf = 0.00\n",
    "for train_indices, test_indices in kf.split(X_test):\n",
    "    rf.fit(X_train.iloc[train_indices], y_train.iloc[train_indices])\n",
    "    average_test_rf += rf.score(X_test.iloc[test_indices], y_test.iloc[test_indices])\n",
    "    print(\"Test Accuracy for iteration \"+ str(iteration) + \" is \" + str(rf.score(X_test.iloc[test_indices], y_test.iloc[test_indices])))\n",
    "    iteration += 1\n",
    "\n",
    "average_test_rf = average_test_rf / (iteration - 1)\n",
    "print(\"\\nThe average accuracy from test value: \" + str(average_test_rf))\n",
    "print(\"\\n\")    \n",
    "\n",
    "print(\"\\nImplementing grid search for parameter tuning\")  \n",
    "parameters_rf = {'max_features':('sqrt', 'log2'), 'n_estimators':[10, 100,1000]}\n",
    "\n",
    "#For Random Forest\n",
    "rf_grid = GridSearchCV(estimator=rf, param_grid=parameters_rf)\n",
    "rf_grid.fit(X_train, y_train)\n",
    "rf_grid.best_params_"
   ]
  },
  {
   "cell_type": "code",
   "execution_count": 7,
   "id": "81f9d120",
   "metadata": {},
   "outputs": [
    {
     "name": "stdout",
     "output_type": "stream",
     "text": [
      "              precision    recall  f1-score   support\n",
      "\n",
      "           1       0.90      0.96      0.93        96\n",
      "           2       0.81      0.63      0.71        27\n",
      "\n",
      "    accuracy                           0.89       123\n",
      "   macro avg       0.86      0.79      0.82       123\n",
      "weighted avg       0.88      0.89      0.88       123\n",
      "\n",
      "\n",
      "10-fold for Support Vector Machine:\n",
      "Accuracy for iteration 1 is 0.9473684210526315\n",
      "Accuracy for iteration 2 is 0.8947368421052632\n",
      "Accuracy for iteration 3 is 0.8421052631578947\n",
      "Accuracy for iteration 4 is 0.8888888888888888\n",
      "Accuracy for iteration 5 is 0.7777777777777778\n",
      "Accuracy for iteration 6 is 0.8888888888888888\n",
      "Accuracy for iteration 7 is 0.6666666666666666\n",
      "Accuracy for iteration 8 is 0.8888888888888888\n",
      "Accuracy for iteration 9 is 0.9444444444444444\n",
      "Accuracy for iteration 10 is 0.7777777777777778\n",
      "\n",
      "The average accuracy from validation: 0.8517543859649124\n",
      "\n",
      "\n",
      "Test Accuracy for iteration 1 is 0.8461538461538461\n",
      "Test Accuracy for iteration 2 is 0.7692307692307693\n",
      "Test Accuracy for iteration 3 is 0.9230769230769231\n",
      "Test Accuracy for iteration 4 is 0.8333333333333334\n",
      "Test Accuracy for iteration 5 is 0.9166666666666666\n",
      "Test Accuracy for iteration 6 is 0.75\n",
      "Test Accuracy for iteration 7 is 0.9166666666666666\n",
      "Test Accuracy for iteration 8 is 0.9166666666666666\n",
      "Test Accuracy for iteration 9 is 0.5833333333333334\n",
      "Test Accuracy for iteration 10 is 0.8333333333333334\n",
      "\n",
      "The average accuracy from test value: 0.8288461538461538\n",
      "\n",
      "\n",
      "\n",
      "Implementing grid search for parameter tuning\n"
     ]
    },
    {
     "data": {
      "text/plain": [
       "{'C': 1, 'kernel': 'linear'}"
      ]
     },
     "execution_count": 7,
     "metadata": {},
     "output_type": "execute_result"
    },
    {
     "data": {
      "image/png": "[encoded data removed]",
      "text/plain": [
       "<Figure size 432x288 with 2 Axes>"
      ]
     },
     "metadata": {
      "needs_background": "light"
     },
     "output_type": "display_data"
    }
   ],
   "source": [
    "# Developing and fitting the Support Vector Machine\n",
    "svm = SVC(random_state = 0, kernel = \"rbf\", gamma = 'auto').fit(X_train, y_train)\n",
    "\n",
    "svm_pred = svm.predict(X_test)\n",
    "\n",
    "cm_svm = confusion_matrix(y_test, svm_pred, labels = svm.classes_)\n",
    "disp = ConfusionMatrixDisplay(confusion_matrix = cm_svm)\n",
    "disp.plot()\n",
    "print(classification_report(y_test, svm_pred, labels = svm.classes_))\n",
    "\n",
    "print(\"\\n10-fold for Support Vector Machine:\")\n",
    "iteration = 1\n",
    "average_validation_svm = 0.00\n",
    "for train_indices, test_indices in kf.split(X_train):\n",
    "    svm.fit(X_train.iloc[train_indices], y_train.iloc[train_indices])\n",
    "    average_validation_svm += svm.score(X_train.iloc[test_indices], y_train.iloc[test_indices])\n",
    "    print(\"Accuracy for iteration \"+ str(iteration) + \" is \" + str(svm.score(X_train.iloc[test_indices], y_train.iloc[test_indices])))\n",
    "    iteration += 1\n",
    "\n",
    "average_validation_svm = average_validation_svm / (iteration - 1)\n",
    "print(\"\\nThe average accuracy from validation: \" + str(average_validation_svm))\n",
    "print(\"\\n\")\n",
    "    \n",
    "iteration = 1\n",
    "average_test_svm = 0.00\n",
    "for train_indices, test_indices in kf.split(X_test):\n",
    "    svm.fit(X_train.iloc[train_indices], y_train.iloc[train_indices])\n",
    "    average_test_svm += svm.score(X_test.iloc[test_indices], y_test.iloc[test_indices])\n",
    "    print(\"Test Accuracy for iteration \"+ str(iteration) + \" is \" + str(svm.score(X_test.iloc[test_indices], y_test.iloc[test_indices])))\n",
    "    iteration += 1\n",
    "\n",
    "average_test_svm = average_test_svm / (iteration - 1)\n",
    "print(\"\\nThe average accuracy from test value: \" + str(average_test_svm))\n",
    "print(\"\\n\")    \n",
    "    \n",
    "# Implement grid search for parameter tuning\n",
    "print(\"\\nImplementing grid search for parameter tuning\")  \n",
    "parameters_svm = {'kernel':('linear', 'rbf', 'poly'), 'C':[1, 10]}\n",
    "\n",
    "svm_grid = GridSearchCV(svm, parameters_svm)\n",
    "svm_grid.fit(X_train, y_train)\n",
    "svm_grid.best_params_"
   ]
  },
  {
   "cell_type": "code",
   "execution_count": 8,
   "id": "107c1a82",
   "metadata": {},
   "outputs": [
    {
     "name": "stdout",
     "output_type": "stream",
     "text": [
      "              precision    recall  f1-score   support\n",
      "\n",
      "           1       1.00      1.00      1.00        96\n",
      "           2       1.00      1.00      1.00        27\n",
      "\n",
      "    accuracy                           1.00       123\n",
      "   macro avg       1.00      1.00      1.00       123\n",
      "weighted avg       1.00      1.00      1.00       123\n",
      "\n",
      "\n",
      "For Neural Network:\n",
      "Accuracy for iteration 1 is 1.0\n",
      "Accuracy for iteration 2 is 0.9473684210526315\n",
      "Accuracy for iteration 3 is 1.0\n",
      "Accuracy for iteration 4 is 1.0\n",
      "Accuracy for iteration 5 is 1.0\n",
      "Accuracy for iteration 6 is 1.0\n",
      "Accuracy for iteration 7 is 1.0\n",
      "Accuracy for iteration 8 is 1.0\n",
      "Accuracy for iteration 9 is 1.0\n",
      "Accuracy for iteration 10 is 0.9444444444444444\n",
      "\n",
      "The average accuracy from validation: 0.9891812865497076\n",
      "\n",
      "\n",
      "Test Accuracy for iteration 1 is 1.0\n",
      "Test Accuracy for iteration 2 is 1.0\n",
      "Test Accuracy for iteration 3 is 1.0\n",
      "Test Accuracy for iteration 4 is 1.0\n",
      "Test Accuracy for iteration 5 is 1.0\n",
      "Test Accuracy for iteration 6 is 1.0\n",
      "Test Accuracy for iteration 7 is 1.0\n",
      "Test Accuracy for iteration 8 is 1.0\n",
      "Test Accuracy for iteration 9 is 1.0\n",
      "Test Accuracy for iteration 10 is 1.0\n",
      "\n",
      "The average accuracy from test value: 1.0\n",
      "\n",
      "\n"
     ]
    },
    {
     "data": {
      "image/png": "[encoded data removed]",
      "text/plain": [
       "<Figure size 432x288 with 2 Axes>"
      ]
     },
     "metadata": {
      "needs_background": "light"
     },
     "output_type": "display_data"
    }
   ],
   "source": [
    "# Developing and fitting the Neural Network\n",
    "\n",
    "nn = MLPClassifier(solver = 'lbfgs', alpha = 0.0001, hidden_layer_sizes = (15,), random_state = 1, activation = \"relu\", learning_rate_init = 0.01).fit(X_train, y_train)\n",
    "\n",
    "nn_pred = nn.predict(X_test)\n",
    "\n",
    "cm_nn = confusion_matrix(y_test, nn_pred, labels = nn.classes_)\n",
    "disp = ConfusionMatrixDisplay(confusion_matrix = cm_nn)\n",
    "disp.plot()\n",
    "print(classification_report(y_test, nn_pred, labels = nn.classes_))\n",
    "\n",
    "print(\"\\nFor Neural Network:\")\n",
    "count = 1\n",
    "average_validation_nn = 0.00\n",
    "for train_indices, test_indices in kf.split(X_train):\n",
    "    nn.fit(X_train.iloc[train_indices], y_train.iloc[train_indices])\n",
    "    average_validation_nn += nn.score(X_train.iloc[test_indices], y_train.iloc[test_indices])\n",
    "    print(\"Accuracy for iteration \"+ str(count) + \" is \" + str(nn.score(X_train.iloc[test_indices], y_train.iloc[test_indices])))\n",
    "    count += 1\n",
    "\n",
    "average_validation_nn = average_validation_nn / (iteration - 1)\n",
    "print(\"\\nThe average accuracy from validation: \" + str(average_validation_nn))\n",
    "print(\"\\n\")\n",
    "    \n",
    "iteration = 1\n",
    "average_test_nn = 0.00\n",
    "for train_indices, test_indices in kf.split(X_test):\n",
    "    nn.fit(X_train.iloc[train_indices], y_train.iloc[train_indices])\n",
    "    average_test_nn += nn.score(X_test.iloc[test_indices], y_test.iloc[test_indices])\n",
    "    print(\"Test Accuracy for iteration \"+ str(iteration) + \" is \" + str(nn.score(X_test.iloc[test_indices], y_test.iloc[test_indices])))\n",
    "    iteration += 1\n",
    "\n",
    "average_test_nn = average_test_nn / (iteration - 1)\n",
    "print(\"\\nThe average accuracy from test value: \" + str(average_test_nn))\n",
    "print(\"\\n\")\n",
    "\n",
    "#For Neural Network\n",
    "# nn_grid = GridSearchCV(nn, param_grid=parameters_nn, cv=3)\n",
    "# nn_grid.fit(X_train, y_train)\n",
    "# nn_grid.best_params_"
   ]
  },
  {
   "cell_type": "code",
   "execution_count": 9,
   "id": "fd773a0e",
   "metadata": {},
   "outputs": [
    {
     "name": "stdout",
     "output_type": "stream",
     "text": [
      "Based on the performance metrics, Model: Random Forest and Neural Network is good.\n"
     ]
    }
   ],
   "source": [
    "print(\"Based on the performance metrics, Model: Random Forest and Neural Network is good.\")"
   ]
  },
  {
   "cell_type": "markdown",
   "id": "1fc5308c",
   "metadata": {},
   "source": [
    "#### 3. Evaluate if the algorithms are overfitting?"
   ]
  },
  {
   "cell_type": "code",
   "execution_count": 10,
   "id": "ceee0cda",
   "metadata": {},
   "outputs": [
    {
     "name": "stdout",
     "output_type": "stream",
     "text": [
      "\n",
      "The average accuracy from validation: 0.737719298245614\n",
      "The average accuracy from test value: 0.7980769230769231\n",
      "\n",
      "The average accuracy from validation: 1.0\n",
      "The average accuracy from test value: 1.0\n",
      "\n",
      "The average accuracy from validation: 0.8517543859649124\n",
      "The average accuracy from test value: 0.8288461538461538\n",
      "\n",
      "The average accuracy from validation: 0.9891812865497076\n",
      "The average accuracy from test value: 1.0\n",
      "\n",
      "Based on the comparision, we can see that: For SupportVectorMachine, the average accuracy of validation is slightly higher and not consider as overfitting\n",
      "\n",
      "We can conclude there is no overfitting.\n"
     ]
    }
   ],
   "source": [
    "#For LogisticRegression\n",
    "print(\"\\nThe average accuracy from validation: \" + str(average_validation_clf))\n",
    "print(\"The average accuracy from test value: \" + str(average_test_clf))\n",
    "\n",
    "#For RandomForest\n",
    "print(\"\\nThe average accuracy from validation: \" + str(average_validation_rf))\n",
    "print(\"The average accuracy from test value: \" + str(average_test_rf))\n",
    "\n",
    "#For SupportVectorMachine\n",
    "print(\"\\nThe average accuracy from validation: \" + str(average_validation_svm))\n",
    "print(\"The average accuracy from test value: \" + str(average_test_svm))\n",
    "\n",
    "#For NeuralNetwork\n",
    "print(\"\\nThe average accuracy from validation: \" + str(average_validation_nn))\n",
    "print(\"The average accuracy from test value: \" + str(average_test_nn))\n",
    "\n",
    "\n",
    "print(\"\\nBased on the comparision, we can see that: For SupportVectorMachine, \" +\n",
    "      \"the average accuracy of validation is slightly higher and not consider as overfitting\")\n",
    "\n",
    "print(\"\\nWe can conclude there is no overfitting.\")"
   ]
  },
  {
   "cell_type": "markdown",
   "id": "3f0eaa18",
   "metadata": {},
   "source": [
    "#### 4. Develop a function which can implement machine learning."
   ]
  },
  {
   "cell_type": "code",
   "execution_count": 11,
   "id": "b09d6b1b",
   "metadata": {},
   "outputs": [
    {
     "name": "stdout",
     "output_type": "stream",
     "text": [
      "              precision    recall  f1-score   support\n",
      "\n",
      "           1       0.83      0.95      0.89        96\n",
      "           2       0.64      0.33      0.44        27\n",
      "\n",
      "    accuracy                           0.81       123\n",
      "   macro avg       0.74      0.64      0.66       123\n",
      "weighted avg       0.79      0.81      0.79       123\n",
      "\n"
     ]
    },
    {
     "data": {
      "image/png": "[encoded data removed]",
      "text/plain": [
       "<Figure size 432x288 with 1 Axes>"
      ]
     },
     "metadata": {
      "needs_background": "light"
     },
     "output_type": "display_data"
    },
    {
     "data": {
      "image/png": "[encoded data removed]",
      "text/plain": [
       "<Figure size 432x288 with 2 Axes>"
      ]
     },
     "metadata": {
      "needs_background": "light"
     },
     "output_type": "display_data"
    }
   ],
   "source": [
    "def machine_learning (data, algorithm):\n",
    "    #Create features/inputs\n",
    "    column_Names = [\"Age\", \"Operation Year\",\"Axillary Node\"]\n",
    "    X = data[columnNames]\n",
    "    #Create the output/class\n",
    "    y = data[\"Survival Status\"]\n",
    "    #Splitting into training and testing datasets.\n",
    "    X_train, X_test, y_train, y_test = train_test_split(X, y, random_state = 10, train_size = 0.6)\n",
    "    \n",
    "    global algo\n",
    "    \n",
    "    if algorithm == \"logistic_regression\":\n",
    "        algo = LogisticRegression(solver = 'lbfgs', penalty = \"l2\", C = 0.01, random_state=10).fit(X_train,y_train)    \n",
    "    elif algorithm == \"random_forest\":\n",
    "        algo = RandomForestClassifier(n_estimators = 10, max_depth = 5, max_features = 'sqrt', random_state = 0).fit(X_train, y_train) \n",
    "    elif algorithm == \"support_vector_machine\":\n",
    "        algo = SVC(random_state = 0, kernel = \"rbf\", gamma = 'auto').fit(X_train, y_train)\n",
    "    elif algorithm == \"neural_network\":\n",
    "        algo = MLPClassifier(solver = 'lbfgs', alpha = 0.0001, hidden_layer_sizes = (15,), random_state = 1, activation = \"relu\", learning_rate_init = 0.01).fit(X_train, y_train)\n",
    "    else:\n",
    "        print(\"Invalid algorithm passed. Accepted Name: logistic_regression, random_forest, support_vector_machine, neural_network\")\n",
    "       \n",
    "    algo.score(X_test, y_test)\n",
    "    y_pred = algo.predict(X_test)\n",
    "    \n",
    "    #plot ROC curve\n",
    "    plot_roc_curve(algo, X_test, y_test) \n",
    "\n",
    "    #Displaying Confusion Metrics\n",
    "    cm = confusion_matrix(y_test, y_pred)\n",
    "    disp = ConfusionMatrixDisplay(confusion_matrix = cm)\n",
    "    disp.plot()\n",
    "    \n",
    "    #Performace metrics\n",
    "    return classification_report(y_test, y_pred, labels = algo.classes_)\n",
    "\n",
    "    \n",
    "performance_metrics = machine_learning(data, \"logistic_regression\")\n",
    "print(performance_metrics)"
   ]
  }
 ],
 "metadata": {
  "kernelspec": {
   "display_name": "Python 3 (ipykernel)",
   "language": "python",
   "name": "python3"
  },
  "language_info": {
   "codemirror_mode": {
    "name": "ipython",
    "version": 3
   },
   "file_extension": ".py",
   "mimetype": "text/x-python",
   "name": "python",
   "nbconvert_exporter": "python",
   "pygments_lexer": "ipython3",
   "version": "3.9.7"
  }
 },
 "nbformat": 4,
 "nbformat_minor": 5
}
