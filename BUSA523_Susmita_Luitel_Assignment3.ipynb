{
 "cells": [
  {
   "cell_type": "markdown",
   "id": "c6b0a3f3",
   "metadata": {},
   "source": [
    "# Name: Susmita Luitel\n",
    "# Student ID: 50300628\n",
    "    "
   ]
  },
  {
   "cell_type": "markdown",
   "id": "a7d8a452",
   "metadata": {},
   "source": [
    "1. Create a class to store student records. Each student has a first name, last name, country, overall grade (0 - 4.0 scale), credits completed (total 30) and major. Create a method within this class to evaluate student progress. (20)\n",
    "\n",
    "a. Progress - “Good”: if grades are above 3.0 and credits completed is greater than 20\n",
    "\n",
    "b. Progress - “Average”: if grades are above 2.5 or credits completed is between 10 and 20\n",
    "\n",
    "c. Progress - “Good”: if grades are below 2.5"
   ]
  },
  {
   "cell_type": "code",
   "execution_count": 1,
   "id": "a7636f82",
   "metadata": {},
   "outputs": [
    {
     "name": "stdout",
     "output_type": "stream",
     "text": [
      "Progress - Good\n"
     ]
    }
   ],
   "source": [
    "class student_records:\n",
    "    \n",
    "    def __init__(self, first_name, last_name, country, grade, credits_completed, major):\n",
    "        self.first_name       = first_name;\n",
    "        self.last_name        = last_name;\n",
    "        self.country          = country;\n",
    "        self.grade            = grade;\n",
    "        self.credits_completed = credits_completed;\n",
    "        self.major             = major;\n",
    "    \n",
    "    def evaluate_progress(self):\n",
    "        if(self.grade > 3.0 and self.credits_completed > 20):\n",
    "            return \"Good\"\n",
    "        elif(self.grade > 2.5 or (self.credits_completed >= 10 and self.credits_completed <= 20) ):\n",
    "            return \"Average\"\n",
    "        else :\n",
    "            return \"Good\"\n",
    "\n",
    "student1 = student_records(\"Susmita\", \"luitel\", \"USA\", 2.0, 30, \"Business analytics\")\n",
    "result = student1.evaluate_progress()\n",
    "print(\"Progress - \" + result)"
   ]
  },
  {
   "cell_type": "markdown",
   "id": "50770d10",
   "metadata": {},
   "source": [
    "2. Write a function which separates the positive and negative numbers from a\n",
    "list of numbers. (20)\n",
    "\n",
    "Input: [-6, 5, -3, -2, 1, 0, -8, 9, 3]\n",
    "    \n",
    "Output: [-6, -3, -2, -8], [5, 1, 9, 3]"
   ]
  },
  {
   "cell_type": "code",
   "execution_count": 2,
   "id": "af84528f",
   "metadata": {},
   "outputs": [
    {
     "name": "stdout",
     "output_type": "stream",
     "text": [
      "[-6, -3, -2, -8] [5, 1, 9, 3]\n"
     ]
    }
   ],
   "source": [
    "def separate_pos_neg(input):\n",
    "    positive = []\n",
    "    negative = []\n",
    "    for i in input:\n",
    "        if i > 0:\n",
    "            positive.append(i)\n",
    "        elif i < 0:\n",
    "            negative.append(i)\n",
    "    return positive, negative\n",
    "\n",
    "inputArray = [-6, 5, -3, -2, 1, 0, -8, 9, 3]\n",
    "posArray, negArray = separate_pos_neg(inputArray)\n",
    "\n",
    "print(negArray, posArray)"
   ]
  },
  {
   "cell_type": "markdown",
   "id": "1ac9e1df",
   "metadata": {},
   "source": [
    "3. Write a function which outputs all winning possibilities for a given player’s score. Assume the score is always greater than 15 and the dealer is dealt only 2 cards. (40)\n",
    "\n",
    "Input - 18 (player’s final score)\n",
    "\n",
    "Output - [(9,10), (10,11), (10,10), (11,9), (11,8)] \n",
    "\n",
    "Notes:\n",
    "- No need to specify face cards separately, you can use the value “10” \n",
    "- (11,11) is not a winning combination"
   ]
  },
  {
   "cell_type": "code",
   "execution_count": 3,
   "id": "a52656c3",
   "metadata": {},
   "outputs": [
    {
     "name": "stdout",
     "output_type": "stream",
     "text": [
      "[(11, 8), (10, 9), (11, 9), (10, 10), (11, 10)]\n"
     ]
    }
   ],
   "source": [
    "import random\n",
    "\n",
    "winning_num = []\n",
    "\n",
    "def winning_pos(player_score):\n",
    "    card_types = [1,2,3,4,5,6,7,8,9,10,11]\n",
    "    \n",
    "    for i in card_types:\n",
    "        for j in card_types:\n",
    "            dealer_score = i + j\n",
    "            if dealer_score > player_score and dealer_score <= 21:\n",
    "                if i == j:\n",
    "                    if (i,j) not in winning_num:\n",
    "                         winning_num.append(tuple([j,i]))\n",
    "                else:\n",
    "                    if(i,j) not in winning_num and (j,i) not in winning_num:\n",
    "                        winning_num.append(tuple([j,i]))\n",
    "                                       \n",
    "                        \n",
    "winning_pos(18)\n",
    "print(winning_num)"
   ]
  },
  {
   "cell_type": "markdown",
   "id": "72b6f61e",
   "metadata": {},
   "source": [
    "4. Calculate the number of steps & Big O order for the programs in question 2 and 3. "
   ]
  },
  {
   "cell_type": "code",
   "execution_count": 4,
   "id": "bf1ee8d7",
   "metadata": {},
   "outputs": [
    {
     "name": "stdout",
     "output_type": "stream",
     "text": [
      "Since, the function loop through input array, Number of Steps: O(n)\n",
      "Time for question 2: \n",
      "738 ns ± 30.1 ns per loop (mean ± std. dev. of 7 runs, 1000000 loops each)\n",
      "Since, the function logic loop through array (card_types) twice, Number of Steps: O(n^2)\n",
      "Time for question 3: \n",
      "7.11 µs ± 234 ns per loop (mean ± std. dev. of 7 runs, 100000 loops each)\n"
     ]
    }
   ],
   "source": [
    "#Number of steps for Question 2:\n",
    "print(\"Since, the function loop through input array, Number of Steps: O(n)\")\n",
    "print(\"Time for question 2: \")\n",
    "%timeit separate_pos_neg(inputArray)\n",
    "\n",
    "\n",
    "#Number of steps for Question 2:\n",
    "print(\"Since, the function logic loop through array (card_types) twice, Number of Steps: O(n^2)\")\n",
    "print(\"Time for question 3: \")\n",
    "%timeit winning_pos(18)\n",
    "\n"
   ]
  }
 ],
 "metadata": {
  "kernelspec": {
   "display_name": "Python 3 (ipykernel)",
   "language": "python",
   "name": "python3"
  },
  "language_info": {
   "codemirror_mode": {
    "name": "ipython",
    "version": 3
   },
   "file_extension": ".py",
   "mimetype": "text/x-python",
   "name": "python",
   "nbconvert_exporter": "python",
   "pygments_lexer": "ipython3",
   "version": "3.9.7"
  }
 },
 "nbformat": 4,
 "nbformat_minor": 5
}
