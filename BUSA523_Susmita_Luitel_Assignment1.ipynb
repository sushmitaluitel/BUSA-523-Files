{
 "cells": [
  {
   "cell_type": "markdown",
   "id": "ec16aabf",
   "metadata": {},
   "source": [
    "# Name: Susmita Luitel\n",
    "# Student ID: 50300628\n"
   ]
  },
  {
   "cell_type": "markdown",
   "id": "b8e7ba39",
   "metadata": {},
   "source": [
    "1. Write a program which randomly selects a number between 1 and 20. The user is then given 5 chances to guess the number correctly to win. "
   ]
  },
  {
   "cell_type": "code",
   "execution_count": 3,
   "id": "37016037",
   "metadata": {},
   "outputs": [
    {
     "name": "stdout",
     "output_type": "stream",
     "text": [
      "You have 5 chances to guess the number between 1 and 20.\n",
      "Enter your number: \n",
      "13\n",
      "Incorrect !! Try Again !!\n",
      "Enter your number: \n",
      "17\n",
      "Incorrect !! Try Again !!\n",
      "Enter your number: \n",
      "18\n",
      "Incorrect !! Try Again !!\n",
      "Enter your number: \n",
      "12\n",
      "Incorrect !! Try Again !!\n",
      "Enter your number: \n",
      "10\n",
      "You lose. The correct number is: 16\n"
     ]
    }
   ],
   "source": [
    "import random\n",
    "\n",
    "number = random.randint(1, 20)\n",
    "print(\"You have 5 chances to guess the number between 1 and 20.\")\n",
    "\n",
    "count = 0\n",
    "while count < 5:\n",
    "    count += 1\n",
    "    print(\"Enter your number: \")\n",
    "    user_num = int(input())\n",
    "    \n",
    "    if user_num == number:\n",
    "        print(\"You win. You number is correct.\")\n",
    "        break\n",
    "    elif count == 5:\n",
    "        print(\"You lose. The correct number is: \" + str(number))\n",
    "    else:\n",
    "        print(\"Incorrect !! Try Again !!\")\n",
    "        "
   ]
  },
  {
   "cell_type": "markdown",
   "id": "f4f333de",
   "metadata": {},
   "source": [
    "2. Make the following changes to the above program. After each guess, print if the next guess should be lower or higher. For example, if the computer selection is 10 and the user input is 6, print guess a higher value."
   ]
  },
  {
   "cell_type": "code",
   "execution_count": 6,
   "id": "5be94d9e",
   "metadata": {
    "scrolled": true
   },
   "outputs": [
    {
     "name": "stdout",
     "output_type": "stream",
     "text": [
      "You have 5 chances to guess the number between 1 and 20.\n",
      "Enter your number: \n",
      "15\n",
      "Guess Lower !!\n",
      "Enter your number: \n",
      "11\n",
      "Guess Lower !!\n",
      "Enter your number: \n",
      "8\n",
      "Guess Lower !!\n",
      "Enter your number: \n",
      "5\n",
      "Guess Higher !!\n",
      "Enter your number: \n",
      "7\n",
      "You win. You number is correct.\n"
     ]
    }
   ],
   "source": [
    "import random\n",
    "\n",
    "number = random.randint(1, 20)\n",
    "print(\"You have 5 chances to guess the number between 1 and 20.\")\n",
    "\n",
    "count = 0\n",
    "while count < 5:\n",
    "    count += 1\n",
    "    print(\"Enter your number: \")\n",
    "    user_num = int(input())\n",
    "    \n",
    "    if user_num == number:\n",
    "        print(\"You win. You number is correct.\")\n",
    "        break\n",
    "    elif count == 5:\n",
    "        print(\"You lose. The correct number is: \" + str(number))\n",
    "    elif user_num > number :\n",
    "        print(\"Guess Lower !!\")\n",
    "    elif user_num < number :\n",
    "        print(\"Guess Higher !!\")\n",
    "    \n",
    "        "
   ]
  },
  {
   "cell_type": "markdown",
   "id": "9d004165",
   "metadata": {},
   "source": [
    "3. Write a program for “Rock-Paper-Scissors-Lizard-Spock”."
   ]
  },
  {
   "cell_type": "code",
   "execution_count": 7,
   "id": "386cfb9c",
   "metadata": {
    "scrolled": false
   },
   "outputs": [
    {
     "name": "stdout",
     "output_type": "stream",
     "text": [
      "Enter your move: Rock, Paper, Scissors, Lizard or Spock\n",
      "Lizard\n",
      "It's a tie!\n"
     ]
    }
   ],
   "source": [
    "import random\n",
    "\n",
    "\n",
    "print(\"Enter your move: Rock, Paper, Scissors, Lizard or Spock\")\n",
    "user = input()\n",
    "user = user.strip()\n",
    "\n",
    "number = random.randint(1, 5)\n",
    "\n",
    "if number == 1:\n",
    "    computer = \"Rock\"\n",
    "elif number == 2:\n",
    "    computer = \"Paper\"\n",
    "elif number == 3:\n",
    "    computer = \"Scissors\"\n",
    "elif number == 4:\n",
    "    computer = \"Lizard\"\n",
    "elif number == 5:\n",
    "    computer = \"Spock\"\n",
    "\n",
    "if user != \"Rock\" and user != \"Paper\" and user != \"Scissors\" and user != \"Lizard\" and user != \"Spock\"  :\n",
    "    print(\"Invalid Entry\")\n",
    "if user == computer:\n",
    "    print(\"It's a tie!\")\n",
    "elif user == \"Spock\" and ( computer == \"Scissors\" or computer == \"Rock\" ):\n",
    "    print(\"You win!\")\n",
    "elif user == \"Scissors\" and ( computer == \"Paper\" or computer == \"Lizard\" ):\n",
    "    print(\"You win!\")    \n",
    "elif user == \"Paper\" and ( computer == \"Rock\" or computer == \"Spock\" ):\n",
    "    print(\"You win!\")\n",
    "elif user == \"Rock\" and ( computer == \"Lizard\" or computer == \"Scissors\" ):\n",
    "    print(\"You win!\")\n",
    "elif user == \"Lizard\" and ( computer == \"Spock\" or computer == \"Paper\" ):\n",
    "    print(\"You win!\")\n",
    "else:\n",
    "    print(\"You lose!\")"
   ]
  }
 ],
 "metadata": {
  "kernelspec": {
   "display_name": "Python 3 (ipykernel)",
   "language": "python",
   "name": "python3"
  },
  "language_info": {
   "codemirror_mode": {
    "name": "ipython",
    "version": 3
   },
   "file_extension": ".py",
   "mimetype": "text/x-python",
   "name": "python",
   "nbconvert_exporter": "python",
   "pygments_lexer": "ipython3",
   "version": "3.9.7"
  }
 },
 "nbformat": 4,
 "nbformat_minor": 5
}
